{
 "cells": [
  {
   "cell_type": "code",
   "execution_count": 1,
   "id": "0834e01d-1eae-4932-b1a2-eb8ec1272b0e",
   "metadata": {},
   "outputs": [],
   "source": [
    "import tensorflow as tf\n",
    "from tensorflow import keras\n",
    "import matplotlib.pyplot as plt\n",
    "import random"
   ]
  },
  {
   "cell_type": "code",
   "execution_count": 2,
   "id": "7bdea3c8-be11-49bb-aa2a-8b31599fbdba",
   "metadata": {},
   "outputs": [],
   "source": [
    "mnist = tf.keras.datasets.mnist\n",
    "(x_train, y_train), (x_test, y_test) = mnist.load_data()"
   ]
  },
  {
   "cell_type": "code",
   "execution_count": 3,
   "id": "5a9367a4-e060-48a0-9a4d-424f782da432",
   "metadata": {},
   "outputs": [],
   "source": [
    "x_train = x_train/255\n",
    "x_test = x_test/255"
   ]
  },
  {
   "cell_type": "code",
   "execution_count": 4,
   "id": "e1031760-6776-4b70-b55e-c4eb826c12f1",
   "metadata": {},
   "outputs": [
    {
     "name": "stdout",
     "output_type": "stream",
     "text": [
      "Model: \"sequential\"\n",
      "_________________________________________________________________\n",
      " Layer (type)                Output Shape              Param #   \n",
      "=================================================================\n",
      " flatten (Flatten)           (None, 784)               0         \n",
      "                                                                 \n",
      " dense (Dense)               (None, 128)               100480    \n",
      "                                                                 \n",
      " dense_1 (Dense)             (None, 10)                1290      \n",
      "                                                                 \n",
      "=================================================================\n",
      "Total params: 101,770\n",
      "Trainable params: 101,770\n",
      "Non-trainable params: 0\n",
      "_________________________________________________________________\n"
     ]
    }
   ],
   "source": [
    "model = keras.Sequential([\n",
    "keras.layers.Flatten(input_shape=(28,28)),\n",
    "keras.layers.Dense(128, activation=\"relu\"),\n",
    "keras.layers.Dense(10, activation=\"softmax\")    \n",
    "])\n",
    "model.summary()"
   ]
  },
  {
   "cell_type": "code",
   "execution_count": 5,
   "id": "924f1e17-ad36-4ea5-966e-3453319f8ecf",
   "metadata": {},
   "outputs": [],
   "source": [
    "model.compile(optimizer=\"sgd\",\n",
    "loss=\"sparse_categorical_crossentropy\",\n",
    "metrics=[\"accuracy\"])"
   ]
  },
  {
   "cell_type": "code",
   "execution_count": 6,
   "id": "4ca010e4-7718-4b9f-90f4-b082482c01a5",
   "metadata": {},
   "outputs": [
    {
     "name": "stdout",
     "output_type": "stream",
     "text": [
      "Epoch 1/11\n",
      "1875/1875 [==============================] - 9s 4ms/step - loss: 0.6474 - accuracy: 0.8368 - val_loss: 0.3575 - val_accuracy: 0.9012\n",
      "Epoch 2/11\n",
      "1875/1875 [==============================] - 8s 4ms/step - loss: 0.3417 - accuracy: 0.9041 - val_loss: 0.2950 - val_accuracy: 0.9163\n",
      "Epoch 3/11\n",
      "1875/1875 [==============================] - 8s 4ms/step - loss: 0.2942 - accuracy: 0.9172 - val_loss: 0.2668 - val_accuracy: 0.9266\n",
      "Epoch 4/11\n",
      "1875/1875 [==============================] - 8s 4ms/step - loss: 0.2647 - accuracy: 0.9254 - val_loss: 0.2440 - val_accuracy: 0.9314\n",
      "Epoch 5/11\n",
      "1875/1875 [==============================] - 8s 4ms/step - loss: 0.2419 - accuracy: 0.9326 - val_loss: 0.2277 - val_accuracy: 0.9358\n",
      "Epoch 6/11\n",
      "1875/1875 [==============================] - 8s 4ms/step - loss: 0.2236 - accuracy: 0.9376 - val_loss: 0.2095 - val_accuracy: 0.9393\n",
      "Epoch 7/11\n",
      "1875/1875 [==============================] - 9s 5ms/step - loss: 0.2077 - accuracy: 0.9423 - val_loss: 0.1982 - val_accuracy: 0.9420\n",
      "Epoch 8/11\n",
      "1875/1875 [==============================] - 8s 4ms/step - loss: 0.1939 - accuracy: 0.9456 - val_loss: 0.1874 - val_accuracy: 0.9447\n",
      "Epoch 9/11\n",
      "1875/1875 [==============================] - 8s 4ms/step - loss: 0.1818 - accuracy: 0.9486 - val_loss: 0.1760 - val_accuracy: 0.9496\n",
      "Epoch 10/11\n",
      "1875/1875 [==============================] - 8s 4ms/step - loss: 0.1712 - accuracy: 0.9521 - val_loss: 0.1671 - val_accuracy: 0.9500\n",
      "Epoch 11/11\n",
      "1875/1875 [==============================] - 8s 4ms/step - loss: 0.1618 - accuracy: 0.9546 - val_loss: 0.1591 - val_accuracy: 0.9531\n"
     ]
    }
   ],
   "source": [
    "history=model.fit(x_train, y_train, validation_data=(x_test, y_test), epochs=11)"
   ]
  },
  {
   "cell_type": "code",
   "execution_count": 7,
   "id": "140298d1-6efd-43f9-9b41-6aa6ee294b4b",
   "metadata": {},
   "outputs": [
    {
     "name": "stdout",
     "output_type": "stream",
     "text": [
      "313/313 [==============================] - 1s 4ms/step - loss: 0.1591 - accuracy: 0.9531\n",
      "Loss=0.159\n",
      "Accuracy=0.953\n"
     ]
    }
   ],
   "source": [
    "test_loss, test_acc=model.evaluate(x_test, y_test)\n",
    "print(\"Loss=%.3f\" %test_loss)\n",
    "print(\"Accuracy=%.3f\" %test_acc)"
   ]
  },
  {
   "cell_type": "code",
   "execution_count": 11,
   "id": "b8665e12-0896-4df4-9b7c-8531e2ed3488",
   "metadata": {},
   "outputs": [
    {
     "data": {
      "image/png": "[encoded data removed]",
      "text/plain": [
       "<Figure size 432x288 with 1 Axes>"
      ]
     },
     "metadata": {
      "needs_background": "light"
     },
     "output_type": "display_data"
    },
    {
     "name": "stdout",
     "output_type": "stream",
     "text": [
      "313/313 [==============================] - 1s 3ms/step\n"
     ]
    },
    {
     "data": {
      "image/png": "[encoded data removed]",
      "text/plain": [
       "<Figure size 1152x144 with 1 Axes>"
      ]
     },
     "metadata": {
      "needs_background": "light"
     },
     "output_type": "display_data"
    }
   ],
   "source": [
    "n=random.randint(0,9999)\n",
    "plt.imshow(x_test[n])\n",
    "plt.show()\n",
    "predicted_value=model.predict(x_test)\n",
    "plt.matshow([predicted_value[n]])\n",
    "plt.show()"
   ]
  },
  {
   "cell_type": "code",
   "execution_count": 12,
   "id": "f8a4c145-2c9a-47a8-9a70-98d811ed358a",
   "metadata": {},
   "outputs": [
    {
     "name": "stdout",
     "output_type": "stream",
     "text": [
      "Predicted Value:  [1.2537962e-04 1.7677508e-05 4.4134241e-03 1.7622298e-05 9.8593933e-05\n",
      " 2.4885373e-04 9.9502546e-01 2.2204651e-06 4.8125417e-05 2.5910251e-06]\n"
     ]
    }
   ],
   "source": [
    "print('Predicted Value: ', predicted_value[n])"
   ]
  },
  {
   "cell_type": "code",
   "execution_count": 13,
   "id": "4ddef109-b20e-4f80-b68d-82e01ee86d38",
   "metadata": {},
   "outputs": [
    {
     "data": {
      "image/png": "[encoded data removed]",
      "text/plain": [
       "<Figure size 432x288 with 1 Axes>"
      ]
     },
     "metadata": {
      "needs_background": "light"
     },
     "output_type": "display_data"
    }
   ],
   "source": [
    "plt.plot(history.history[\"accuracy\"])\n",
    "plt.plot(history.history[\"val_accuracy\"])\n",
    "plt.title('Model Accuracy')\n",
    "plt.ylabel('Accuracy')\n",
    "plt.xlabel('Epoch')\n",
    "plt.legend(['Train', 'Validation'], loc='center right')\n",
    "plt.show()"
   ]
  },
  {
   "cell_type": "code",
   "execution_count": 14,
   "id": "47d29d94-58d3-44e8-92e6-bf8ce9593410",
   "metadata": {},
   "outputs": [
    {
     "data": {
      "image/png": "[encoded data removed]",
      "text/plain": [
       "<Figure size 432x288 with 1 Axes>"
      ]
     },
     "metadata": {
      "needs_background": "light"
     },
     "output_type": "display_data"
    }
   ],
   "source": [
    "plt.plot(history.history[\"loss\"])\n",
    "plt.plot(history.history[\"val_loss\"])\n",
    "plt.title('Model Loss')\n",
    "plt.ylabel('Loss')\n",
    "plt.xlabel('Epoch')\n",
    "plt.legend(['Train', 'Validation'], loc='center right')\n",
    "plt.show()"
   ]
  },
  {
   "cell_type": "code",
   "execution_count": null,
   "id": "31f64600-d9b7-4cf6-8de3-e3d2025bde2b",
   "metadata": {},
   "outputs": [],
   "source": []
  }
 ],
 "metadata": {
  "kernelspec": {
   "display_name": "Python 3 (ipykernel)",
   "language": "python",
   "name": "python3"
  },
  "language_info": {
   "codemirror_mode": {
    "name": "ipython",
    "version": 3
   },
   "file_extension": ".py",
   "mimetype": "text/x-python",
   "name": "python",
   "nbconvert_exporter": "python",
   "pygments_lexer": "ipython3",
   "version": "3.10.10"
  }
 },
 "nbformat": 4,
 "nbformat_minor": 5
}
