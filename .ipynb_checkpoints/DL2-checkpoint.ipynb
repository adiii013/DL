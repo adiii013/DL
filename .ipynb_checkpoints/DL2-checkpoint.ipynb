{
 "cells": [
  {
   "cell_type": "code",
   "execution_count": 8,
   "id": "0834e01d-1eae-4932-b1a2-eb8ec1272b0e",
   "metadata": {},
   "outputs": [],
   "source": [
    "import tensorflow as tf\n",
    "from tensorflow import keras\n",
    "import matplotlib.pyplot as plt\n",
    "import random"
   ]
  },
  {
   "cell_type": "code",
   "execution_count": 9,
   "id": "7bdea3c8-be11-49bb-aa2a-8b31599fbdba",
   "metadata": {},
   "outputs": [],
   "source": [
    "mnist = tf.keras.datasets.mnist\n",
    "(x_train, y_train), (x_test, y_test) = mnist.load_data()"
   ]
  },
  {
   "cell_type": "code",
   "execution_count": 10,
   "id": "5a9367a4-e060-48a0-9a4d-424f782da432",
   "metadata": {},
   "outputs": [],
   "source": [
    "x_train = x_train/255\n",
    "x_test = x_test/255"
   ]
  },
  {
   "cell_type": "code",
   "execution_count": 11,
   "id": "e1031760-6776-4b70-b55e-c4eb826c12f1",
   "metadata": {},
   "outputs": [
    {
     "name": "stdout",
     "output_type": "stream",
     "text": [
      "Model: \"sequential_1\"\n",
      "_________________________________________________________________\n",
      " Layer (type)                Output Shape              Param #   \n",
      "=================================================================\n",
      " flatten_1 (Flatten)         (None, 784)               0         \n",
      "                                                                 \n",
      " dense_2 (Dense)             (None, 128)               100480    \n",
      "                                                                 \n",
      " dense_3 (Dense)             (None, 10)                1290      \n",
      "                                                                 \n",
      "=================================================================\n",
      "Total params: 101770 (397.54 KB)\n",
      "Trainable params: 101770 (397.54 KB)\n",
      "Non-trainable params: 0 (0.00 Byte)\n",
      "_________________________________________________________________\n"
     ]
    }
   ],
   "source": [
    "model = keras.Sequential([\n",
    "keras.layers.Flatten(input_shape=(28,28)),\n",
    "keras.layers.Dense(128, activation=\"relu\"),\n",
    "keras.layers.Dense(10, activation=\"softmax\")    \n",
    "])\n",
    "model.summary()"
   ]
  },
  {
   "cell_type": "code",
   "execution_count": 12,
   "id": "924f1e17-ad36-4ea5-966e-3453319f8ecf",
   "metadata": {},
   "outputs": [],
   "source": [
    "model.compile(optimizer=\"sgd\",\n",
    "loss=\"sparse_categorical_crossentropy\",\n",
    "metrics=[\"accuracy\"])"
   ]
  },
  {
   "cell_type": "code",
   "execution_count": 13,
   "id": "4ca010e4-7718-4b9f-90f4-b082482c01a5",
   "metadata": {},
   "outputs": [
    {
     "name": "stdout",
     "output_type": "stream",
     "text": [
      "Epoch 1/11\n",
      "1875/1875 [==============================] - 6s 3ms/step - loss: 0.6484 - accuracy: 0.8380 - val_loss: 0.3560 - val_accuracy: 0.9016\n",
      "Epoch 2/11\n",
      "1875/1875 [==============================] - 7s 4ms/step - loss: 0.3388 - accuracy: 0.9057 - val_loss: 0.2928 - val_accuracy: 0.9193\n",
      "Epoch 3/11\n",
      "1875/1875 [==============================] - 12s 6ms/step - loss: 0.2914 - accuracy: 0.9181 - val_loss: 0.2610 - val_accuracy: 0.9273\n",
      "Epoch 4/11\n",
      "1875/1875 [==============================] - 12s 6ms/step - loss: 0.2616 - accuracy: 0.9260 - val_loss: 0.2395 - val_accuracy: 0.9319\n",
      "Epoch 5/11\n",
      "1875/1875 [==============================] - 10s 5ms/step - loss: 0.2385 - accuracy: 0.9331 - val_loss: 0.2199 - val_accuracy: 0.9386\n",
      "Epoch 6/11\n",
      "1875/1875 [==============================] - 11s 6ms/step - loss: 0.2193 - accuracy: 0.9388 - val_loss: 0.2066 - val_accuracy: 0.9407\n",
      "Epoch 7/11\n",
      "1875/1875 [==============================] - 9s 5ms/step - loss: 0.2030 - accuracy: 0.9431 - val_loss: 0.1927 - val_accuracy: 0.9453\n",
      "Epoch 8/11\n",
      "1875/1875 [==============================] - 9s 5ms/step - loss: 0.1894 - accuracy: 0.9470 - val_loss: 0.1833 - val_accuracy: 0.9489\n",
      "Epoch 9/11\n",
      "1875/1875 [==============================] - 7s 4ms/step - loss: 0.1773 - accuracy: 0.9499 - val_loss: 0.1712 - val_accuracy: 0.9515\n",
      "Epoch 10/11\n",
      "1875/1875 [==============================] - 9s 5ms/step - loss: 0.1665 - accuracy: 0.9535 - val_loss: 0.1623 - val_accuracy: 0.9522\n",
      "Epoch 11/11\n",
      "1875/1875 [==============================] - 8s 4ms/step - loss: 0.1573 - accuracy: 0.9561 - val_loss: 0.1539 - val_accuracy: 0.9549\n"
     ]
    }
   ],
   "source": [
    "history=model.fit(x_train, y_train, validation_data=(x_test, y_test), epochs=11)"
   ]
  },
  {
   "cell_type": "code",
   "execution_count": 14,
   "id": "140298d1-6efd-43f9-9b41-6aa6ee294b4b",
   "metadata": {},
   "outputs": [
    {
     "name": "stdout",
     "output_type": "stream",
     "text": [
      "313/313 [==============================] - 1s 2ms/step - loss: 0.1539 - accuracy: 0.9549\n",
      "Loss=0.154\n",
      "Accuracy=0.955\n"
     ]
    }
   ],
   "source": [
    "test_loss, test_acc=model.evaluate(x_test, y_test)\n",
    "print(\"Loss=%.3f\" %test_loss)\n",
    "print(\"Accuracy=%.3f\" %test_acc)"
   ]
  },
  {
   "cell_type": "code",
   "execution_count": 19,
   "id": "b8665e12-0896-4df4-9b7c-8531e2ed3488",
   "metadata": {},
   "outputs": [
    {
     "data": {
      "image/png": "[encoded data removed]",
      "text/plain": [
       "<Figure size 432x288 with 1 Axes>"
      ]
     },
     "metadata": {
      "needs_background": "light"
     },
     "output_type": "display_data"
    },
    {
     "name": "stdout",
     "output_type": "stream",
     "text": [
      "313/313 [==============================] - 1s 3ms/step\n"
     ]
    },
    {
     "data": {
      "image/png": "[encoded data removed]",
      "text/plain": [
       "<Figure size 432x288 with 1 Axes>"
      ]
     },
     "metadata": {
      "needs_background": "light"
     },
     "output_type": "display_data"
    }
   ],
   "source": [
    "n=random.randint(0,9999)\n",
    "plt.imshow(x_test[n])\n",
    "plt.show()\n",
    "predicted_value=model.predict(x_test)\n",
    "plt.imshow(x_test[n])\n",
    "plt.show()"
   ]
  },
  {
   "cell_type": "code",
   "execution_count": 20,
   "id": "f8a4c145-2c9a-47a8-9a70-98d811ed358a",
   "metadata": {},
   "outputs": [
    {
     "name": "stdout",
     "output_type": "stream",
     "text": [
      "Predicted Value:  [7.8966750e-06 7.8560782e-07 5.3741725e-04 1.1777529e-05 1.9600457e-03\n",
      " 1.9280851e-05 6.7383062e-06 7.1986360e-03 4.4345745e-04 9.8981398e-01]\n"
     ]
    }
   ],
   "source": [
    "print('Predicted Value: ', predicted_value[n])"
   ]
  },
  {
   "cell_type": "code",
   "execution_count": 21,
   "id": "4ddef109-b20e-4f80-b68d-82e01ee86d38",
   "metadata": {},
   "outputs": [
    {
     "data": {
      "image/png": "[encoded data removed]",
      "text/plain": [
       "<Figure size 432x288 with 1 Axes>"
      ]
     },
     "metadata": {
      "needs_background": "light"
     },
     "output_type": "display_data"
    }
   ],
   "source": [
    "plt.plot(history.history[\"accuracy\"])\n",
    "plt.plot(history.history[\"val_accuracy\"])\n",
    "plt.title('Model Accuracy')\n",
    "plt.ylabel('Accuracy')\n",
    "plt.xlabel('Epoch')\n",
    "plt.legend(['Train', 'Validation'], loc='center right')\n",
    "plt.show()"
   ]
  },
  {
   "cell_type": "code",
   "execution_count": 22,
   "id": "47d29d94-58d3-44e8-92e6-bf8ce9593410",
   "metadata": {},
   "outputs": [
    {
     "data": {
      "image/png": "[encoded data removed]",
      "text/plain": [
       "<Figure size 432x288 with 1 Axes>"
      ]
     },
     "metadata": {
      "needs_background": "light"
     },
     "output_type": "display_data"
    }
   ],
   "source": [
    "plt.plot(history.history[\"loss\"])\n",
    "plt.plot(history.history[\"val_loss\"])\n",
    "plt.title('Model Loss')\n",
    "plt.ylabel('Loss')\n",
    "plt.xlabel('Epoch')\n",
    "plt.legend(['Train', 'Validation'], loc='center right')\n",
    "plt.show()"
   ]
  },
  {
   "cell_type": "code",
   "execution_count": null,
   "id": "31f64600-d9b7-4cf6-8de3-e3d2025bde2b",
   "metadata": {},
   "outputs": [],
   "source": []
  }
 ],
 "metadata": {
  "kernelspec": {
   "display_name": "Python 3 (ipykernel)",
   "language": "python",
   "name": "python3"
  },
  "language_info": {
   "codemirror_mode": {
    "name": "ipython",
    "version": 3
   },
   "file_extension": ".py",
   "mimetype": "text/x-python",
   "name": "python",
   "nbconvert_exporter": "python",
   "pygments_lexer": "ipython3",
   "version": "3.9.5"
  }
 },
 "nbformat": 4,
 "nbformat_minor": 5
}
